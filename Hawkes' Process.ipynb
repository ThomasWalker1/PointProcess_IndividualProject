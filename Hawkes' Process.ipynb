{
 "cells": [
  {
   "cell_type": "code",
   "execution_count": 1,
   "id": "34ba96f9",
   "metadata": {},
   "outputs": [],
   "source": [
    "import matplotlib.pyplot as plt\n",
    "import scipy.stats as sp\n",
    "import numpy as np"
   ]
  },
  {
   "cell_type": "code",
   "execution_count": 7,
   "id": "e870e698",
   "metadata": {},
   "outputs": [],
   "source": [
    "a=0.1\n",
    "b=0.3\n",
    "gamma=0.5\n",
    "beta=0.8\n",
    "mu=0.3\n",
    "r=20"
   ]
  },
  {
   "cell_type": "code",
   "execution_count": 8,
   "id": "3f0ce949",
   "metadata": {},
   "outputs": [],
   "source": [
    "def offspring_intensity(eta,t):\n",
    "    return eta*np.exp(-beta*(t))"
   ]
  },
  {
   "cell_type": "code",
   "execution_count": 9,
   "id": "5ab57eea",
   "metadata": {},
   "outputs": [],
   "source": [
    "def next_arrival_time(eta,beta,r,t_current):\n",
    "    p=sp.uniform.rvs(size=1)[0]\n",
    "    def integral_equation(t_prev,t):\n",
    "        return 1-np.exp(-(-eta*np.exp(-beta*t)/beta+eta*np.exp(-beta*t_prev)/beta))\n",
    "    tau=0\n",
    "    while integral_equation(t_current,t_current+tau)<p:\n",
    "        tau+=0.01\n",
    "        if tau>r:\n",
    "            return r\n",
    "    return tau\n",
    "    \n",
    "\n",
    "def next_event(mu,history_ongoing,history_finished,E_ongoing,E_finished,r):\n",
    "    N=len(history_ongoing)\n",
    "    if N==0:\n",
    "        return history_finished,E_finished\n",
    "    removal_history=[]\n",
    "    removal_E=[]\n",
    "    for n in range(N):\n",
    "        if history_ongoing[n][0]==0:\n",
    "            p=sp.uniform.rvs(size=1)[0]\n",
    "            integral_equation = lambda t: 1-np.exp(-mu*t)\n",
    "            tau=0\n",
    "            while integral_equation(tau)<p:\n",
    "                tau+=0.01\n",
    "                if tau>r:\n",
    "                    tau=r\n",
    "                    break\n",
    "            time=tau\n",
    "        else:\n",
    "            time=next_arrival_time(E_ongoing[n],0.8,r,history_ongoing[n][-1])\n",
    "        if history_ongoing[n][-1]+time<r:\n",
    "            history_ongoing[n].append(history_ongoing[n][-1]+time)\n",
    "            history_ongoing.append([history_ongoing[n][-2]+time])\n",
    "            E_ongoing.append(sp.uniform.rvs(size=1)[0]+0.5)\n",
    "        else:\n",
    "            history_finished.append(history_ongoing[n])\n",
    "            E_finished.append(E_ongoing[n])\n",
    "            removal_history.append(history_ongoing[n])\n",
    "            removal_E.append(E_ongoing[n])\n",
    "    for timeline in removal_history:\n",
    "        history_ongoing.remove(timeline)\n",
    "    for e in removal_E:\n",
    "        E_ongoing.remove(e)\n",
    "    return next_event(mu,history_ongoing,history_finished,E_ongoing,E_finished,r)"
   ]
  },
  {
   "cell_type": "code",
   "execution_count": 10,
   "id": "bd84b103",
   "metadata": {},
   "outputs": [],
   "source": [
    "def CIF(timelines,E,t,mu,beta):\n",
    "    intensity=0\n",
    "    for i in range(len(timelines)):\n",
    "        time=timelines[i][0]\n",
    "        if E[i]==mu:\n",
    "            intensity+=mu\n",
    "        elif t>time:\n",
    "            intensity+=E[i]*np.exp(-beta*(t-time))\n",
    "    return intensity"
   ]
  },
  {
   "cell_type": "code",
   "execution_count": 12,
   "id": "1c4aa759",
   "metadata": {},
   "outputs": [
    {
     "data": {
      "text/plain": [
       "Text(0, 0.5, 'Intensity')"
      ]
     },
     "execution_count": 12,
     "metadata": {},
     "output_type": "execute_result"
    },
    {
     "data": {
      "image/png": "[encoded data removed]",
      "text/plain": [
       "<Figure size 432x288 with 1 Axes>"
      ]
     },
     "metadata": {
      "needs_background": "light"
     },
     "output_type": "display_data"
    }
   ],
   "source": [
    "histories=next_event(mu,[[0]],[],[mu],[],r)\n",
    "\n",
    "x=np.linspace(0,r,1000)\n",
    "\n",
    "plt.axis([-0.2,r,-0.2,3])\n",
    "plt.plot(x,[CIF(histories[0],histories[1],t,mu,0.8) for t in x],label='CIF',color='blue')\n",
    "\n",
    "\n",
    "for n in range(len(histories[0])):\n",
    "    if n==0:\n",
    "        plt.plot(histories[0][n],np.ones(len(histories[0][n]))*CIF(histories[0],histories[1],histories[0][n][0],mu,0.8),'o',color='black',label='Events')\n",
    "    else:\n",
    "        plt.plot(histories[0][n],np.ones(len(histories[0][n]))*CIF(histories[0],histories[1],histories[0][n][0],mu,0.8),'o',color='black')\n",
    "\n",
    "        \n",
    "plt.tick_params(axis='x', which='both', bottom=False, top=False, labelbottom=True) \n",
    "plt.tick_params(axis='y', which='both', left=False, right=False, labelleft=True)\n",
    "plt.legend(fontsize=10)\n",
    "plt.xlabel('Time',fontsize=12)\n",
    "plt.ylabel('Intensity',fontsize=12)\n",
    "#plt.savefig('hawkes_realisation.pdf')"
   ]
  },
  {
   "cell_type": "code",
   "execution_count": null,
   "id": "b0986325",
   "metadata": {},
   "outputs": [],
   "source": []
  }
 ],
 "metadata": {
  "kernelspec": {
   "display_name": "Python 3",
   "language": "python",
   "name": "python3"
  },
  "language_info": {
   "codemirror_mode": {
    "name": "ipython",
    "version": 3
   },
   "file_extension": ".py",
   "mimetype": "text/x-python",
   "name": "python",
   "nbconvert_exporter": "python",
   "pygments_lexer": "ipython3",
   "version": "3.8.8"
  }
 },
 "nbformat": 4,
 "nbformat_minor": 5
}
