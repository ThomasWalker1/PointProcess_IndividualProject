{
 "cells": [
  {
   "cell_type": "code",
   "execution_count": 8,
   "id": "97d683f7",
   "metadata": {},
   "outputs": [],
   "source": [
    "import matplotlib.pyplot as plt\n",
    "import numpy as np\n",
    "import scipy.stats as sp\n",
    "import random as rnd"
   ]
  },
  {
   "cell_type": "code",
   "execution_count": 13,
   "id": "49da9129",
   "metadata": {},
   "outputs": [],
   "source": [
    "def intensity_equation_plotter(start, max_t,shift):\n",
    "    intensity_function = lambda t: 1-np.exp(-(shift+t))\n",
    "    x=np.linspace(0,max_t,1000)\n",
    "    y=intensity_function(x)\n",
    "    plt.plot(x+np.ones(len(x))*start,y,color='black')"
   ]
  },
  {
   "cell_type": "code",
   "execution_count": 15,
   "id": "bd5d12bd",
   "metadata": {},
   "outputs": [
    {
     "data": {
      "text/plain": [
       "<matplotlib.legend.Legend at 0x2d7d4273940>"
      ]
     },
     "execution_count": 15,
     "metadata": {},
     "output_type": "execute_result"
    },
    {
     "data": {
      "image/png": "[encoded data removed]",
      "text/plain": [
       "<Figure size 432x288 with 1 Axes>"
      ]
     },
     "metadata": {
      "needs_background": "light"
     },
     "output_type": "display_data"
    }
   ],
   "source": [
    "beta=0.99\n",
    "equipment_times=[0]\n",
    "intensities=[0]\n",
    "time_line=[0]\n",
    "real_time=0\n",
    "equipment_time=0\n",
    "shift = 0\n",
    "\n",
    "\n",
    "while True:\n",
    "    \n",
    "    intensity_function =lambda t: 1-np.exp(-(t+shift)) # Define the intensity functions based on the current shift\n",
    "    integral_equation = lambda t: 1-np.exp(1-t-np.exp(-(t+shift))) # Define the integral equation based on current shift\n",
    "\n",
    "    repair_coefficent=sp.uniform.rvs(size=1)[0]\n",
    "\n",
    "    inverse_time=0 # Here we solve for the time until threshold is met to get the support of our random variable\n",
    "    while intensity_function(inverse_time)<beta:\n",
    "        inverse_time+=0.01\n",
    "\n",
    "    univariate=sp.uniform.rvs(size=1)[0] # Now we use the Probability Integral Transform to sample from the distributiond\n",
    "    tau=0\n",
    "    while integral_equation(tau)<univariate:\n",
    "        tau+=0.01\n",
    "        \n",
    "        \n",
    "    if intensity_function(tau)>beta: # At this point we retire the piece of equipment if the point of the next failure occurs\n",
    "        real_time+=inverse_time      # at a time that brings the intensity of the equipment beyond the threhold value\n",
    "        time_line.append(time_line[-1]+tau)\n",
    "        intensities.append(beta)\n",
    "        equipment_times.append(equipment_times[-1]+inverse_time)\n",
    "        break\n",
    "        \n",
    "    repair_coefficent=(inverse_time-tau)*repair_coefficent+tau # We now generate the repair coefficent\n",
    "    \n",
    "    real_time+=tau # We update the real time\n",
    "    equipment_time+=tau*(repair_coefficent) # We update the equipment time based on the repair that was made\n",
    "    time_line.append(real_time)\n",
    "    shift=equipment_time\n",
    "    intensities.append(float(intensity_function(equipment_time)))\n",
    "    equipment_times.append(equipment_time)\n",
    "    \n",
    "\n",
    "\n",
    "for i in range(len(equipment_times)-1): # This plots the intensity function associated for each failure\n",
    "    intensity_equation_plotter(time_line[i],max(time_line)-time_line[i],equipment_times[i])\n",
    "    \n",
    "# The following plots illustrate the timeline of the piece of equipment\n",
    "plt.plot(time_line[0:-1],np.zeros(len(time_line)-1),'o',color='blue',label='Points of Failure')\n",
    "plt.plot(time_line[-1],0,'|',color='blue',label='Relisation After Exceeding Threshold')\n",
    "plt.plot(time_line[-2]+inverse_time,0,'x',color='red',label='Point of Discontinuation')\n",
    "\n",
    "# In this block we format the plot\n",
    "plt.axis([-0.1,time_line[-1]+0.2,-0.2,1])\n",
    "plt.axis(True)\n",
    "plt.tick_params(axis='x', which='both', bottom=False, top=False, labelbottom=True) \n",
    "plt.tick_params(axis='y', which='both', left=False, right=False, labelleft=True)\n",
    "plt.xlabel('Time',fontsize=12)\n",
    "plt.ylabel('Intensity',fontsize=12)\n",
    "plt.legend(fontsize=10)\n",
    "\n",
    "# Here we save the figure\n",
    "#plt.savefig('inhomogeneous_failure_repair_model2.pdf')"
   ]
  },
  {
   "cell_type": "code",
   "execution_count": null,
   "id": "f177df7c",
   "metadata": {},
   "outputs": [],
   "source": []
  }
 ],
 "metadata": {
  "kernelspec": {
   "display_name": "Python 3",
   "language": "python",
   "name": "python3"
  },
  "language_info": {
   "codemirror_mode": {
    "name": "ipython",
    "version": 3
   },
   "file_extension": ".py",
   "mimetype": "text/x-python",
   "name": "python",
   "nbconvert_exporter": "python",
   "pygments_lexer": "ipython3",
   "version": "3.8.8"
  }
 },
 "nbformat": 4,
 "nbformat_minor": 5
}
